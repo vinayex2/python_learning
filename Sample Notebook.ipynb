{
 "cells": [
  {
   "cell_type": "markdown",
   "metadata": {},
   "source": [
    "### For Else Loop"
   ]
  },
  {
   "cell_type": "code",
   "execution_count": null,
   "metadata": {},
   "outputs": [],
   "source": [
    "def getIndex(n):\n",
    "    for i in range(n):\n",
    "        if i > n:\n",
    "            break\n",
    "    else:\n",
    "        return -1\n",
    "    return(i)\n",
    "\n",
    "getIndex(1)"
   ]
  },
  {
   "cell_type": "markdown",
   "metadata": {},
   "source": [
    "### Looping over dictionary items"
   ]
  },
  {
   "cell_type": "code",
   "execution_count": null,
   "metadata": {},
   "outputs": [],
   "source": [
    "d = {'1':'a','2':'b'}\n",
    "for k in d:\n",
    "    print(k,'-->',d.get(k)) ##KEys need to be rehashed to find the value\n",
    "\n",
    "for k,v in d.items():\n",
    "    print(k,'-->',v) ##Better version\n",
    "\n",
    "    \n",
    "for k in d.keys():\n",
    "    print(k,'-->',d.get(k)) ##You can manipulate dictionary with this version\n"
   ]
  },
  {
   "cell_type": "code",
   "execution_count": null,
   "metadata": {},
   "outputs": [],
   "source": [
    "for a,b in zip(range(4),range(5)):\n",
    "    print(a,b)"
   ]
  },
  {
   "cell_type": "code",
   "execution_count": null,
   "metadata": {},
   "outputs": [],
   "source": [
    "%timeit dict(zip(range(4),range(4)))\n",
    "%timeit {k:v for k,v in zip(range(4),range(4))}"
   ]
  },
  {
   "cell_type": "code",
   "execution_count": null,
   "metadata": {},
   "outputs": [],
   "source": [
    "%%timeit\n",
    "x = [1,2,3,4]\n",
    "y = [1,2,3,4]\n",
    "dict(zip(x,y))"
   ]
  },
  {
   "cell_type": "code",
   "execution_count": null,
   "metadata": {},
   "outputs": [],
   "source": [
    "%%timeit\n",
    "a = [1,2,3,4]\n",
    "b = [1,2,3,4]\n",
    "{k:v for k,v in zip(a,b)}"
   ]
  },
  {
   "cell_type": "markdown",
   "metadata": {},
   "source": [
    "### Grouping in dictionary"
   ]
  },
  {
   "cell_type": "code",
   "execution_count": null,
   "metadata": {},
   "outputs": [],
   "source": [
    "\n",
    "from collections import defaultdict\n",
    "names = ['Vinay','Kreeti',\"payal\",'rajendar','subhash']\n",
    "d = defaultdict(list)\n",
    "for name in names:\n",
    "    key = len(name)\n",
    "    d[key].append(name)\n",
    "    \n",
    "d"
   ]
  },
  {
   "cell_type": "code",
   "execution_count": null,
   "metadata": {},
   "outputs": [],
   "source": [
    "%%timeit\n",
    "for key,value in d.items():\n",
    "    key,value"
   ]
  },
  {
   "cell_type": "code",
   "execution_count": null,
   "metadata": {},
   "outputs": [],
   "source": [
    "%%timeit\n",
    "while d:\n",
    "    key,value = d.popitem()  #popitem is thread safe and faster than above\n",
    "    key,value"
   ]
  },
  {
   "cell_type": "markdown",
   "metadata": {},
   "source": [
    "### Linking dictionaries\n",
    "    "
   ]
  },
  {
   "cell_type": "code",
   "execution_count": null,
   "metadata": {},
   "outputs": [],
   "source": [
    "from collections import ChainMap\n",
    "dicta = {'a':1,'a1':2}\n",
    "dictb = {'b1':1,'b':2}\n",
    "dictc = {'c1':1,'c':2}\n",
    "d = ChainMap(dictc,dictb,dicta) #order of priority in lookups"
   ]
  },
  {
   "cell_type": "markdown",
   "metadata": {},
   "source": [
    "### Named tuples (just like normal tuples)"
   ]
  },
  {
   "cell_type": "code",
   "execution_count": null,
   "metadata": {},
   "outputs": [],
   "source": [
    "from collections import namedtuple\n",
    "TestResults = namedtuple('TestResults',['failed','attempted'])\n",
    "x = TestResults(0,4)\n",
    "x"
   ]
  },
  {
   "cell_type": "markdown",
   "metadata": {},
   "source": [
    "### Overwriting without temporary variables"
   ]
  },
  {
   "cell_type": "code",
   "execution_count": null,
   "metadata": {},
   "outputs": [],
   "source": [
    "y = 0\n",
    "for x in range(4):\n",
    "    x,y = y, x*2\n",
    "x,y"
   ]
  },
  {
   "cell_type": "markdown",
   "metadata": {},
   "source": [
    "### Updating sequences or consuming lists"
   ]
  },
  {
   "cell_type": "code",
   "execution_count": null,
   "metadata": {},
   "outputs": [],
   "source": [
    "from collections import deque\n",
    "names_queue = deque(names)\n",
    "names_queue.pop()"
   ]
  },
  {
   "cell_type": "markdown",
   "metadata": {},
   "source": [
    "### Decorators"
   ]
  },
  {
   "cell_type": "code",
   "execution_count": null,
   "metadata": {},
   "outputs": [],
   "source": [
    "def some_lookup(key, alreadySaved={}):\n",
    "    if key in alreadySaved:\n",
    "        return alreadySaved[key]\n",
    "    #page = some_logic_calculate_key(key)\n",
    "    alreadySaved[key] = page\n",
    "    return page"
   ]
  },
  {
   "cell_type": "code",
   "execution_count": null,
   "metadata": {},
   "outputs": [],
   "source": [
    "from functools import wraps\n",
    "def cache(func):\n",
    "    alreadysaved = {}\n",
    "    @wraps(func)\n",
    "    def newfunc(*args):\n",
    "        if args in alreadysaved:\n",
    "            print('Returning from cache')\n",
    "            return alreadysaved.get(args)\n",
    "        result = func(*args)\n",
    "        alreadysaved[args] = result\n",
    "        return result\n",
    "    return newfunc\n",
    "\n",
    "@cache\n",
    "def some_lookup(url):\n",
    "    return pow(key,2)"
   ]
  },
  {
   "cell_type": "code",
   "execution_count": null,
   "metadata": {},
   "outputs": [],
   "source": [
    "some_lookup(2)"
   ]
  },
  {
   "cell_type": "markdown",
   "metadata": {},
   "source": [
    "### Redirect std_out (use prints everywhere)"
   ]
  },
  {
   "cell_type": "code",
   "execution_count": null,
   "metadata": {},
   "outputs": [],
   "source": [
    "from contextlib import redirect_stdout\n",
    "with open('help.txt','w') as f:\n",
    "    with redirect_stdout(f):\n",
    "        help(pow)\n",
    "    "
   ]
  },
  {
   "cell_type": "markdown",
   "metadata": {},
   "source": [
    "### tuples are faster than list"
   ]
  },
  {
   "cell_type": "code",
   "execution_count": 1,
   "metadata": {},
   "outputs": [],
   "source": [
    "%load_ext memory_profiler"
   ]
  },
  {
   "cell_type": "code",
   "execution_count": 2,
   "metadata": {},
   "outputs": [
    {
     "name": "stdout",
     "output_type": "stream",
     "text": [
      "peak memory: 36.27 MiB, increment: 0.79 MiB\n"
     ]
    }
   ],
   "source": [
    "%memit sum([i**2 for i in range(10)])"
   ]
  },
  {
   "cell_type": "code",
   "execution_count": 3,
   "metadata": {},
   "outputs": [
    {
     "name": "stdout",
     "output_type": "stream",
     "text": [
      "peak memory: 36.28 MiB, increment: 0.00 MiB\n"
     ]
    }
   ],
   "source": [
    "%memit sum(x**2 for x in range(10))"
   ]
  },
  {
   "cell_type": "code",
   "execution_count": null,
   "metadata": {},
   "outputs": [],
   "source": []
  }
 ],
 "metadata": {
  "kernelspec": {
   "display_name": "Python 3",
   "language": "python",
   "name": "python3"
  },
  "language_info": {
   "codemirror_mode": {
    "name": "ipython",
    "version": 3
   },
   "file_extension": ".py",
   "mimetype": "text/x-python",
   "name": "python",
   "nbconvert_exporter": "python",
   "pygments_lexer": "ipython3",
   "version": "3.7.2"
  }
 },
 "nbformat": 4,
 "nbformat_minor": 2
}
